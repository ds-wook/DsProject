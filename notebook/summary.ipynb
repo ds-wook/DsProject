{
 "cells": [
  {
   "cell_type": "markdown",
   "metadata": {},
   "source": [
    "# 정리\n",
    "+ 시각화만 하지말고 이유를 대라\n",
    ">> + 통계적으로 증명 : 사후검정(ANOVA), 다른 검정 알아볼 것\n",
    ">>> + 코드를 알아보자!\n",
    "\n",
    "+ feature들간의 상관관계, 변수 중요도\n",
    ">> + 상관관계 corr() 확인 feauture selection 적용\n",
    ">> + feature importance : ML model -> XGBoost, LightGBM, RF...단일 분류 모델 (dswook)\n",
    "\n",
    "+ 비율보단 실제값?\n",
    ">> + % feature보다 실제값을 기준으로 하는게 좋지 않을까?\n",
    "\n",
    "+ 논문\n",
    ">> 이상치를 정의하는 논문을 좀 알아 볼 것"
   ]
  }
 ],
 "metadata": {
  "kernelspec": {
   "display_name": "Python 3",
   "language": "python",
   "name": "python3"
  },
  "language_info": {
   "codemirror_mode": {
    "name": "ipython",
    "version": 3
   },
   "file_extension": ".py",
   "mimetype": "text/x-python",
   "name": "python",
   "nbconvert_exporter": "python",
   "pygments_lexer": "ipython3",
   "version": "3.7.4"
  }
 },
 "nbformat": 4,
 "nbformat_minor": 2
}
